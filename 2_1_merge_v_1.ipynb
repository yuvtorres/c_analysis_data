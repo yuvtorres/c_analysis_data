{
 "cells": [
  {
   "cell_type": "markdown",
   "metadata": {},
   "source": [
    "# Congressional Speech Analysis"
   ]
  },
  {
   "cell_type": "markdown",
   "metadata": {},
   "source": [
    "### 1. Data import"
   ]
  },
  {
   "cell_type": "code",
   "execution_count": 1,
   "metadata": {},
   "outputs": [
    {
     "name": "stdout",
     "output_type": "stream",
     "text": [
      "charisma_analisis_complete has 10938 Rows, and 175 Columns\n",
      "congress_114_bills has 3886 Rows, and 25 Columns\n"
     ]
    }
   ],
   "source": [
    "import matplotlib.pyplot as plt\n",
    "from matplotlib_venn import venn2\n",
    "import pandas as pd\n",
    "# its necessary to run --> pip3 install xlrd==1.2.0               \n",
    "df_charisma_analysis=pd.read_excel(\"charisma_analisis_complete_df.xlsx\", header=0)\n",
    "df_congress_114_bills=pd.read_excel(\"congress_114_bills_df_new.xlsx\",header=0)\n",
    "print(f'''charisma_analisis_complete has {df_charisma_analysis.shape[0]} Rows, and {df_charisma_analysis.shape[1]} Columns''')\n",
    "print(f'''congress_114_bills has {df_congress_114_bills.shape[0]} Rows, and {df_congress_114_bills.shape[1]} Columns''')"
   ]
  },
  {
   "cell_type": "markdown",
   "metadata": {},
   "source": [
    "---\n",
    "### 2. Merging Data"
   ]
  },
  {
   "cell_type": "markdown",
   "metadata": {},
   "source": [
    "##### 2.1 By unique_speeche_id"
   ]
  },
  {
   "cell_type": "code",
   "execution_count": 2,
   "metadata": {},
   "outputs": [
    {
     "data": {
      "image/png": "[encoded data removed]",
      "text/plain": [
       "<Figure size 432x288 with 1 Axes>"
      ]
     },
     "metadata": {},
     "output_type": "display_data"
    },
    {
     "name": "stdout",
     "output_type": "stream",
     "text": [
      "The numbers are the count of unique_speeche_id uniques\n"
     ]
    }
   ],
   "source": [
    "df_merge_1=pd.merge(df_congress_114_bills, df_charisma_analysis,on='unique_speech_id')\n",
    "df_merge_2=pd.merge(df_congress_114_bills,df_charisma_analysis,on='unique_speech_id',how='left')\n",
    "df_merge_3=pd.merge(df_congress_114_bills,df_charisma_analysis,on='unique_speech_id',how='right')\n",
    "\n",
    "inter=len(df_merge_1.unique_speech_id.value_counts())\n",
    "left=len(df_merge_2.unique_speech_id.value_counts())-inter\n",
    "right=len(df_merge_3.unique_speech_id.value_counts())-inter\n",
    "venn2(subsets = (left, right, inter),set_labels = ('df_congress_114_bills', 'df_charisma_analysis'))\n",
    "plt.show()\n",
    "print(\"The numbers are the count of unique_speeche_id uniques\")"
   ]
  },
  {
   "cell_type": "code",
   "execution_count": 3,
   "metadata": {},
   "outputs": [
    {
     "name": "stdout",
     "output_type": "stream",
     "text": [
      "[0, 0, 0, 0, 0, 0, 0, 0, 0, 0, 0, 0]\n"
     ]
    }
   ],
   "source": [
    "# checking differences in repeted Cols in db_merge_1\n",
    "repeted_cols=[x for x in df_merge_1.columns.values if x[-2:]==\"_x\"]\n",
    "check_repeted= [sum(df_merge_1[[x,x[:-2]+'_y']].apply(lambda x:x[0]!=x[1] )) for x in repeted_cols]\n",
    "print(check_repeted)"
   ]
  },
  {
   "cell_type": "code",
   "execution_count": 4,
   "metadata": {},
   "outputs": [],
   "source": [
    "df_merge_1.to_csv('df_merge_unique_speeche_id.csv',index=False)"
   ]
  },
  {
   "cell_type": "markdown",
   "metadata": {},
   "source": [
    "##### 2.2 By document_id"
   ]
  },
  {
   "cell_type": "code",
   "execution_count": 5,
   "metadata": {},
   "outputs": [
    {
     "data": {
      "image/png": "[encoded data removed]",
      "text/plain": [
       "<Figure size 432x288 with 1 Axes>"
      ]
     },
     "metadata": {},
     "output_type": "display_data"
    },
    {
     "name": "stdout",
     "output_type": "stream",
     "text": [
      "The numbers are the count of unique_speeche_id uniques\n"
     ]
    }
   ],
   "source": [
    "df_merge_1=pd.merge(df_congress_114_bills, df_charisma_analysis,on='document_id')\n",
    "df_merge_2=pd.merge(df_congress_114_bills,df_charisma_analysis,on='document_id',how='left')\n",
    "df_merge_3=pd.merge(df_congress_114_bills,df_charisma_analysis,on='document_id',how='right')\n",
    "\n",
    "inter=len(df_merge_1.unique_speech_id_x.value_counts())\n",
    "left=len(df_merge_2.unique_speech_id_x.value_counts())-inter\n",
    "right=len(df_merge_3.unique_speech_id_y.value_counts())-inter\n",
    "venn2(subsets = (left, right, inter),set_labels = ('df_congress_114_bills', 'df_charisma_analysis'))\n",
    "plt.show()\n",
    "print(\"The numbers are the count of unique_speeche_id uniques\")"
   ]
  },
  {
   "cell_type": "code",
   "execution_count": 6,
   "metadata": {},
   "outputs": [
    {
     "name": "stdout",
     "output_type": "stream",
     "text": [
      "There are some items that have different values in both tables when merge:\n",
      "{'speech_id_x': 1, 'unique_speech_id_x': 1, 'clean_speaker_name_x': 1, 'speech_len_x': 1}\n"
     ]
    }
   ],
   "source": [
    "# checking differences in repeted Cols in db_merge_1\n",
    "repeted_cols=[x for x in df_merge_1.columns.values if x[-2:]==\"_x\"]\n",
    "check_repeted= dict( (x,sum(df_merge_1[[x,x[:-2]+'_y']].apply(lambda x:x[0]!=x[1]))) for x in repeted_cols)\n",
    "\n",
    "print(\"There are some items that have different values in both tables when merge:\")\n",
    "print({k: v for k, v in check_repeted.items() if v>0} )\n"
   ]
  },
  {
   "cell_type": "code",
   "execution_count": 7,
   "metadata": {},
   "outputs": [],
   "source": [
    "# Export the data\n",
    "df_merge_1.to_csv('df_merge_document_id.csv',index=False)"
   ]
  }
 ],
 "metadata": {
  "kernelspec": {
   "display_name": "Python 3",
   "language": "python",
   "name": "python3"
  },
  "language_info": {
   "codemirror_mode": {
    "name": "ipython",
    "version": 3
   },
   "file_extension": ".py",
   "mimetype": "text/x-python",
   "name": "python",
   "nbconvert_exporter": "python",
   "pygments_lexer": "ipython3",
   "version": "3.8.5"
  }
 },
 "nbformat": 4,
 "nbformat_minor": 4
}
